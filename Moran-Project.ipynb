{
 "cells": [
  {
   "cell_type": "code",
   "execution_count": 1,
   "metadata": {},
   "outputs": [],
   "source": [
    "import random\n",
    "import time\n",
    "import numpy as np\n",
    "import matplotlib.pyplot as plt"
   ]
  },
  {
   "cell_type": "code",
   "execution_count": 2,
   "metadata": {},
   "outputs": [],
   "source": [
    "random.seed(time.time()) #To get a \"really\" random generator "
   ]
  },
  {
   "cell_type": "code",
   "execution_count": 3,
   "metadata": {},
   "outputs": [],
   "source": [
    "class Cell ( object) :\n",
    "    \n",
    "    next_ID = 0\n",
    "    \n",
    "    def __init__(self, state = \"NORMAL\", fitness = 1, mutation_rate = 0.001):\n",
    "        self.state = state\n",
    "        self.fitness = fitness\n",
    "        self.mutation_rate = mutation_rate\n",
    "        self.ID = Cell.next_ID\n",
    "        self.treatment_duration = 0\n",
    "        Cell.next_ID += 1\n",
    "        \n",
    "    def __str__(self):\n",
    "        return \"Cell #{0} of type : {1}\".format(self.ID, self.state)\n",
    "    \n",
    "    def become_cancerous_or_not (self):\n",
    "        proba = random.uniform(0, 0.002)\n",
    "        if self.mutation_rate > proba :\n",
    "            self.state = \"CANCEROUS\"\n",
    "            self.fitness = fc\n",
    "            self.mutation_rate = mu_c\n",
    "    \n",
    "    def apoptose (self):\n",
    "        self.state = \"DEAD\"\n",
    "        \n",
    "    def treatment (self, alpha):\n",
    "        self.fitness = self.fitness * alpha\n",
    "        self.treatment_duration += 1"
   ]
  },
  {
   "cell_type": "code",
   "execution_count": 4,
   "metadata": {},
   "outputs": [],
   "source": [
    "class Tissue ( object ) :\n",
    "    \n",
    "    def __init__(self, omega, alpha, fitness_n, fitness_c, mutation_rate_n, mutation_rate_c, generation_time):\n",
    "        self.fitness_n = fitness_n\n",
    "        self.fitness_c = fitness_c\n",
    "        self.mutation_rate_n = mutation_rate_n\n",
    "        self.mutation_rate_c = mutation_rate_c\n",
    "        self.generation_time = generation_time\n",
    "        self.omega = omega\n",
    "        self.alpha = alpha\n",
    "        self.pop = []\n",
    "     \n",
    "    def create_cell (self, state, fitness, mutation_rate):\n",
    "        return ( Cell (state, fitness, mutation_rate) )\n",
    "        \n",
    "    \n",
    "    def initial_population (self, N = 1000, prop_cancer = 0.05):\n",
    "        nb_cancer_cells = round (prop_cancer *N)\n",
    "        \n",
    "        for i in range(N):\n",
    "            if ( i < nb_cancer_cells) :\n",
    "                state = \"CANCEROUS\"\n",
    "                fitness = self.fitness_c\n",
    "                mutation_rate = self.mutation_rate_c\n",
    "\n",
    "            else :\n",
    "                state = \"NORMAL\"\n",
    "                fitness = self.fitness_n\n",
    "                mutation_rate = self.mutation_rate_n\n",
    "                \n",
    "                \n",
    "            new_cell = self.create_cell (state, fitness, mutation_rate)\n",
    "            self.pop.append(new_cell)\n",
    "\n",
    "    def stats(self):\n",
    "        nb_cells = len( self.pop )\n",
    "        nb_cancer_cells = 0\n",
    "        nb_normal_cells = 0\n",
    "        nb_dead = 0\n",
    "        detection = False\n",
    "        \n",
    "        \n",
    "        for cell in self.pop:\n",
    "            if cell.state == \"NORMAL\":\n",
    "                nb_normal_cells += 1\n",
    "            elif cell.state == \"CANCEROUS\" :\n",
    "                nb_cancer_cells += 1\n",
    "            elif cell.state == \"DEAD\" :\n",
    "                nb_dead += 1\n",
    "                \n",
    "            if nb_cancer_cells > self.omega * nb_cells :\n",
    "                detection = True\n",
    "            \n",
    "        return (nb_cells, nb_normal_cells, nb_cancer_cells, detection)\n",
    "            \n",
    "    def get_treatment(self):\n",
    "        if self.stats()[3]:\n",
    "            for cell in self.pop:\n",
    "                if (cell.state == \"CANCEROUS\") and (cell.treatment_duration < self.generation_time):\n",
    "                    cell.treatment(self.alpha)\n",
    "    \n",
    "    def reproduce (self):\n",
    "        proba = random.uniform(0, 1)\n",
    "        minimum = 1\n",
    "        candidat = self.pop[0]\n",
    "        \n",
    "        for cell in self.pop :\n",
    "            if ( abs( cell.fitness - proba) < minimum):\n",
    "                minimum = abs( cell.fitness - proba)\n",
    "                candidat = cell\n",
    "        \n",
    "        new_cell = self.create_cell(candidat.state, candidat.fitness, candidat.mutation_rate)\n",
    "\n",
    "        if new_cell.state == \"NORMAL\":\n",
    "            new_cell.become_cancerous_or_not()\n",
    "        \n",
    "        self.pop.append(new_cell)\n",
    "    \n",
    "    def apoptose(self):\n",
    "        cell = random.choice(self.pop)\n",
    "        self.pop.remove(cell)\n",
    "        cell.apoptose()"
   ]
  },
  {
   "cell_type": "markdown",
   "metadata": {},
   "source": [
    "The simulation with a while loop takes a lot of time (it ends very rarely), maybe this is due to my code. Besides, in order to have a simulation, I decided to replace the while loop by a for loop."
   ]
  },
  {
   "cell_type": "code",
   "execution_count": 60,
   "metadata": {},
   "outputs": [],
   "source": [
    "def simulation (nb_runs, omega, alpha, fn, fc, mu_n, mu_c, T, treatment = True):\n",
    "    \n",
    "    my_tissue = Tissue(omega , alpha, fn, fc, mu_n, mu_c, T)\n",
    "    my_tissue.initial_population(N = 1000, prop_cancer = 0.1) #initial population of 1000 individus\n",
    "    \n",
    "    print(\"Initilisation : \")\n",
    "    print ( \"Total number of cells : {}, number of normal cells : {}, number of cancerous cells : {}\".format(my_tissue.stats()[0], my_tissue.stats()[1], my_tissue.stats()[2]), \"\\n\" ) \n",
    "\n",
    "    for i in range (nb_runs):\n",
    "        my_tissue.reproduce()\n",
    "        my_tissue.apoptose()\n",
    "        \n",
    "        if treatment :\n",
    "            my_tissue.get_treatment()\n",
    "        \n",
    "    \n",
    "    print ( \"Statistics after\", nb_runs, \"runs : \")\n",
    "    print ( \"Total number of cells : {}, number of normal cells : {}, number of cancerous cells : {}\".format(my_tissue.stats()[0], my_tissue.stats()[1], my_tissue.stats()[2]), \"\\n\" ) \n",
    "    "
   ]
  },
  {
   "cell_type": "code",
   "execution_count": 61,
   "metadata": {},
   "outputs": [],
   "source": [
    "N = 1000 #number of runs for the simulation with the for - loop \n",
    "\n",
    "mu_n = 0.001 #mutation rate for normal cells\n",
    "mu_c = 0.005 #mutation rate for cancerous cells\n",
    "\n",
    "fn = 1 #fitness for normal cells\n",
    "fc = 0.5 #fitness for cancerous cells\n",
    "\n",
    "# Detection of the cancer :\n",
    "\n",
    "omega = 0.25 #cutoff for the cancer-detection\n",
    "alpha = 1/3 #treatment constant that reduces fitness for cancerous cells\n",
    "T = 20 #number of generations the treatment is still efficient"
   ]
  },
  {
   "cell_type": "code",
   "execution_count": 62,
   "metadata": {},
   "outputs": [
    {
     "name": "stdout",
     "output_type": "stream",
     "text": [
      "Initilisation : \n",
      "Total number of cells : 1000, number of normal cells : 900, number of cancerous cells : 100 \n",
      "\n",
      "Statistics after 1000 runs : \n",
      "Total number of cells : 1000, number of normal cells : 386, number of cancerous cells : 614 \n",
      "\n"
     ]
    }
   ],
   "source": [
    "#Without treatment :\n",
    "\n",
    "simulation (N, omega, alpha, fn, fc, mu_n, mu_c, T, False)"
   ]
  },
  {
   "cell_type": "code",
   "execution_count": 63,
   "metadata": {},
   "outputs": [
    {
     "name": "stdout",
     "output_type": "stream",
     "text": [
      "Initilisation : \n",
      "Total number of cells : 1000, number of normal cells : 900, number of cancerous cells : 100 \n",
      "\n",
      "Statistics after 1000 runs : \n",
      "Total number of cells : 1000, number of normal cells : 465, number of cancerous cells : 535 \n",
      "\n"
     ]
    }
   ],
   "source": [
    "#With treatment :\n",
    "\n",
    "simulation (N, omega, alpha, fn, fc, mu_n, mu_c, T, True)"
   ]
  },
  {
   "cell_type": "raw",
   "metadata": {},
   "source": [
    "# Simulation (WHILE) :\n",
    "\n",
    "my_tissue = Tissue(omega , alpha, fn, fc, mu_n, mu_c, T)\n",
    "my_tissue.initial_population(N =1000, prop_cancer = 0.1)\n",
    "\n",
    "while (nb_cancerous_cells != 0 and nb_normal_cell != 0)\n",
    "    my_tissue.reproduction()\n",
    "    my_tissue.apoptose()\n",
    "    \n",
    "    if treatment :\n",
    "        my_tissue.get_treatment()\n",
    "\n",
    "print ( my_tissue.stats() )"
   ]
  },
  {
   "cell_type": "code",
   "execution_count": null,
   "metadata": {},
   "outputs": [],
   "source": []
  },
  {
   "cell_type": "code",
   "execution_count": null,
   "metadata": {},
   "outputs": [],
   "source": []
  },
  {
   "cell_type": "code",
   "execution_count": null,
   "metadata": {},
   "outputs": [],
   "source": []
  },
  {
   "cell_type": "code",
   "execution_count": null,
   "metadata": {},
   "outputs": [],
   "source": []
  },
  {
   "cell_type": "code",
   "execution_count": null,
   "metadata": {},
   "outputs": [],
   "source": []
  }
 ],
 "metadata": {
  "kernelspec": {
   "display_name": "Python 3",
   "language": "python",
   "name": "python3"
  },
  "language_info": {
   "codemirror_mode": {
    "name": "ipython",
    "version": 3
   },
   "file_extension": ".py",
   "mimetype": "text/x-python",
   "name": "python",
   "nbconvert_exporter": "python",
   "pygments_lexer": "ipython3",
   "version": "3.8.8"
  }
 },
 "nbformat": 4,
 "nbformat_minor": 4
}
