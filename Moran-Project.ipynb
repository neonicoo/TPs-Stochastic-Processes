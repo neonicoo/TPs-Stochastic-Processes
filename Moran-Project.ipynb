{
 "cells": [
  {
   "cell_type": "code",
   "execution_count": 1,
   "metadata": {},
   "outputs": [],
   "source": [
    "import random\n",
    "import time\n",
    "import numpy as np\n",
    "import matplotlib.pyplot as plt"
   ]
  },
  {
   "cell_type": "code",
   "execution_count": 2,
   "metadata": {},
   "outputs": [],
   "source": [
    "random.seed(time.time()) # Pour avoir un générateur vraiement aléatoire"
   ]
  },
  {
   "cell_type": "code",
   "execution_count": 3,
   "metadata": {},
   "outputs": [],
   "source": [
    "# Constant population of size :\n",
    "N = 1000 \n",
    "\n",
    "# Mutation rate :\n",
    "mu_n = 0.001\n",
    "mu_c = 0.005\n",
    "\n",
    "# Fitness :\n",
    "fn = 1\n",
    "fc = 0.5\n",
    "\n",
    "# Detection of the cancer :\n",
    "omega = 0.25"
   ]
  },
  {
   "cell_type": "code",
   "execution_count": 4,
   "metadata": {},
   "outputs": [],
   "source": [
    "class Cell ( object) :\n",
    "    \n",
    "    next_ID = 0\n",
    "    \n",
    "    def __init__(self, state = \"NORMAL\", fitness = 1, mutation_rate = 0.001):\n",
    "        self.state = state\n",
    "        self.fitness = fitness\n",
    "        self.mutation_rate = mutation_rate\n",
    "        self.ID = Cell.next_ID\n",
    "        Cell.next_ID += 1\n",
    "        \n",
    "    def __str__(self):\n",
    "        return \"Cell #{0} of type : {1}\".format(self.ID, self.state)\n",
    "    \n",
    "    def become_cancerous_or_not (self):\n",
    "        proba = random.uniform(0, 0.002)\n",
    "        if self.mutation_rate > proba :\n",
    "            self.state = \"CANCEROUS\"\n",
    "            self.fitness = fc\n",
    "            self.mutation_rate = mu_c\n",
    "            \n",
    "    \n",
    "    def apoptose (self):\n",
    "        self.state = \"DEAD\""
   ]
  },
  {
   "cell_type": "code",
   "execution_count": 5,
   "metadata": {},
   "outputs": [],
   "source": [
    "class Tissue ( object ) :\n",
    "    \n",
    "    def __init__(self):\n",
    "        self.pop = []\n",
    "     \n",
    "    def create_cell (self, state, fitness, mutation_rate):\n",
    "        return ( Cell (state, fitness, mutation_rate) )\n",
    "        \n",
    "    \n",
    "    def initial_population (self, N = 1000, prop_cancer = 0.05):\n",
    "        nb_cancer_cells = round (prop_cancer *N)\n",
    "        \n",
    "        for i in range(N):\n",
    "            if ( i < nb_cancer_cells) :\n",
    "                state = \"CANCEROUS\"\n",
    "                fitness = fc\n",
    "                mutation_rate = mu_c\n",
    "\n",
    "            else :\n",
    "                state = \"NORMAL\"\n",
    "                fitness = fn\n",
    "                mutation_rate = mu_n\n",
    "                \n",
    "                \n",
    "            new_cell = self.create_cell (state, fitness, mutation_rate)\n",
    "            self.pop.append(new_cell)\n",
    "\n",
    "    def stats(self):\n",
    "        nb_cells = len( self.pop )\n",
    "        nb_cancer_cells = 0\n",
    "        nb_normal_cells = 0\n",
    "        nb_dead = 0\n",
    "        \n",
    "        for cell in self.pop:\n",
    "            if cell.state == \"NORMAL\":\n",
    "                nb_normal_cells += 1\n",
    "            elif cell.state == \"CANCEROUS\" :\n",
    "                nb_cancer_cells += 1\n",
    "            elif cell.state == \"DEAD\" :\n",
    "                nb_dead += 1\n",
    "                \n",
    "        return (nb_cells, nb_normal_cells, nb_cancer_cells )\n",
    "            \n",
    "    \n",
    "    def reproduction (self):\n",
    "        proba = random.uniform(0, 1)\n",
    "        minimum = 1\n",
    "        candidat = self.pop[0]\n",
    "        \n",
    "        for cell in self.pop :\n",
    "            if ( abs( cell.fitness - proba) < minimum):\n",
    "                minimum = abs( cell.fitness - proba)\n",
    "                candidat = cell\n",
    "        \n",
    "        new_cell = self.create_cell(candidat.state, candidat.fitness, candidat.mutation_rate)\n",
    "\n",
    "        if new_cell.state == \"NORMAL\":\n",
    "            new_cell.become_cancerous_or_not()\n",
    "        \n",
    "        self.pop.append(new_cell)\n",
    "        \n",
    "        \n",
    "    \n",
    "    def apoptose(self):\n",
    "        cell = random.choice(self.pop)\n",
    "        self.pop.remove(cell)\n",
    "        cell.apoptose()"
   ]
  },
  {
   "cell_type": "code",
   "execution_count": 6,
   "metadata": {},
   "outputs": [
    {
     "name": "stdout",
     "output_type": "stream",
     "text": [
      "(1000, 950, 50)\n"
     ]
    }
   ],
   "source": [
    "my_tissue = Tissue()\n",
    "my_tissue.initial_population(N =1000)\n",
    "print (my_tissue.stats())"
   ]
  },
  {
   "cell_type": "code",
   "execution_count": 7,
   "metadata": {},
   "outputs": [
    {
     "name": "stdout",
     "output_type": "stream",
     "text": [
      "(999, 949, 50)\n"
     ]
    }
   ],
   "source": [
    "my_tissue.apoptose()\n",
    "print (my_tissue.stats())"
   ]
  },
  {
   "cell_type": "code",
   "execution_count": 8,
   "metadata": {},
   "outputs": [
    {
     "name": "stdout",
     "output_type": "stream",
     "text": [
      "(1000, 949, 51)\n"
     ]
    }
   ],
   "source": [
    "my_tissue.reproduction()\n",
    "print (my_tissue.stats())"
   ]
  },
  {
   "cell_type": "code",
   "execution_count": 10,
   "metadata": {},
   "outputs": [],
   "source": [
    "# Simulation (WHILE) :\n",
    "my_tissue = Tissue()\n",
    "my_tissue.initial_population(N =1000, prop_cancer = 0.1)\n",
    "nb_cells, nb_cancerous_cells, nb_normal_cell = my_tissue.stats()\n",
    "\n",
    "while (nb_cancerous_cells != 0 and nb_normal_cell != 0)\n",
    "    my_tissue.reproduction()\n",
    "    my_tissue.apoptose()"
   ]
  },
  {
   "cell_type": "code",
   "execution_count": null,
   "metadata": {},
   "outputs": [],
   "source": []
  },
  {
   "cell_type": "code",
   "execution_count": null,
   "metadata": {},
   "outputs": [],
   "source": []
  }
 ],
 "metadata": {
  "kernelspec": {
   "display_name": "Python 3",
   "language": "python",
   "name": "python3"
  },
  "language_info": {
   "codemirror_mode": {
    "name": "ipython",
    "version": 3
   },
   "file_extension": ".py",
   "mimetype": "text/x-python",
   "name": "python",
   "nbconvert_exporter": "python",
   "pygments_lexer": "ipython3",
   "version": "3.8.5"
  }
 },
 "nbformat": 4,
 "nbformat_minor": 4
}
