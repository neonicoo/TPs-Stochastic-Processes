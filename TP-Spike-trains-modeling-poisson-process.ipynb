{
 "cells": [
  {
   "cell_type": "code",
   "execution_count": null,
   "metadata": {},
   "outputs": [],
   "source": [
    "%matplotlib inline"
   ]
  },
  {
   "cell_type": "code",
   "execution_count": null,
   "metadata": {},
   "outputs": [],
   "source": [
    "import numpy as np\n",
    "import pandas as pd\n",
    "import matplotlib.pyplot as plt"
   ]
  },
  {
   "cell_type": "code",
   "execution_count": null,
   "metadata": {},
   "outputs": [],
   "source": [
    "Poisson_generator = np.random.exponential(scale=1/10, size=25)\n",
    "Poisson_generator"
   ]
  },
  {
   "cell_type": "code",
   "execution_count": null,
   "metadata": {},
   "outputs": [],
   "source": [
    "def poisson_generator(lamb, T, t):\n",
    "    if t is not None :\n",
    "        return ( np.random.exponential(1/lamb, T) [t])\n",
    "    else:\n",
    "        return ( np.random.exponential(1/lamb, T) )"
   ]
  },
  {
   "cell_type": "code",
   "execution_count": null,
   "metadata": {},
   "outputs": [],
   "source": [
    "poisson_generator(10, 50, 9)"
   ]
  },
  {
   "cell_type": "code",
   "execution_count": null,
   "metadata": {},
   "outputs": [],
   "source": [
    "def estimate_lamb (P):\n",
    "    return ( 1/ np.mean(P) )"
   ]
  },
  {
   "cell_type": "code",
   "execution_count": null,
   "metadata": {},
   "outputs": [],
   "source": [
    "estimate_lamb( poisson_generator (10, 50, t = None))"
   ]
  },
  {
   "cell_type": "code",
   "execution_count": null,
   "metadata": {},
   "outputs": [],
   "source": [
    "SHA4 = []\n",
    "with open('SHAM4_replicates.txt', 'r') as file:\n",
    "    for lines in file:\n",
    "        SHA4.append([float(e) for e in lines[:-1].split(\",\")])"
   ]
  },
  {
   "cell_type": "code",
   "execution_count": null,
   "metadata": {},
   "outputs": [],
   "source": [
    "SHA5 = []\n",
    "with open('SHAM5_replicates.txt', 'r') as file:\n",
    "    for lines in file:\n",
    "        SHA5.append([float(e) for e in lines[:-1].split(\",\")])"
   ]
  },
  {
   "cell_type": "code",
   "execution_count": null,
   "metadata": {},
   "outputs": [],
   "source": [
    "for experience in SHA4:\n",
    "    print(experience, \"\\n\")"
   ]
  },
  {
   "cell_type": "code",
   "execution_count": null,
   "metadata": {},
   "outputs": [],
   "source": [
    "def epochs(array, limit):\n",
    "    res = []\n",
    "    for i in range ( len (array) ):\n",
    "        sublist = []\n",
    "        for j in range(len(array[i])-1):\n",
    "            if ( array[i][j+1]-array[i][0] <= limit) :\n",
    "                sublist.append(array[i][j+1]-array[i][0]) \n",
    "        res.append(sublist)\n",
    "    return (res)"
   ]
  },
  {
   "cell_type": "code",
   "execution_count": null,
   "metadata": {},
   "outputs": [],
   "source": [
    "SHA4_times = epochs(SHA4, limit = 0.1)\n",
    "SHA5_times =  epochs(SHA5, limit = 0.1)"
   ]
  },
  {
   "cell_type": "code",
   "execution_count": null,
   "metadata": {},
   "outputs": [],
   "source": [
    "SHA4_times"
   ]
  },
  {
   "cell_type": "code",
   "execution_count": null,
   "metadata": {},
   "outputs": [],
   "source": [
    "plt.figure(figsize=(12,8))\n",
    "for i, spiketrain in enumerate(SHA4_times):\n",
    "        plt.plot(spiketrain, i * np.ones_like(spiketrain), '.', markersize=10)\n",
    "        \n",
    "plt.xlim(0, 0.10)\n",
    "plt.xlabel(\"Time (seconds)\", fontsize = 18)\n",
    "plt.ylabel(\"Neuron spikes per replicates\", fontsize = 18)\n",
    "plt.show"
   ]
  },
  {
   "cell_type": "code",
   "execution_count": null,
   "metadata": {},
   "outputs": [],
   "source": []
  },
  {
   "cell_type": "code",
   "execution_count": null,
   "metadata": {},
   "outputs": [],
   "source": []
  },
  {
   "cell_type": "code",
   "execution_count": null,
   "metadata": {},
   "outputs": [],
   "source": []
  },
  {
   "cell_type": "code",
   "execution_count": null,
   "metadata": {},
   "outputs": [],
   "source": []
  }
 ],
 "metadata": {
  "kernelspec": {
   "display_name": "Python 3",
   "language": "python",
   "name": "python3"
  },
  "language_info": {
   "codemirror_mode": {
    "name": "ipython",
    "version": 3
   },
   "file_extension": ".py",
   "mimetype": "text/x-python",
   "name": "python",
   "nbconvert_exporter": "python",
   "pygments_lexer": "ipython3",
   "version": "3.8.5"
  }
 },
 "nbformat": 4,
 "nbformat_minor": 4
}
