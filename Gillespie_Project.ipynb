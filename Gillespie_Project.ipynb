{
 "cells": [
  {
   "cell_type": "code",
   "execution_count": 1,
   "metadata": {},
   "outputs": [],
   "source": [
    "%matplotlib inline"
   ]
  },
  {
   "cell_type": "code",
   "execution_count": 2,
   "metadata": {
    "id": "TCdcRvw4X-yo"
   },
   "outputs": [],
   "source": [
    "import numpy as np\n",
    "import matplotlib.pyplot as plt\n",
    "import random\n",
    "import copy"
   ]
  },
  {
   "cell_type": "code",
   "execution_count": 3,
   "metadata": {},
   "outputs": [],
   "source": [
    "def compute_some_stats(stats):\n",
    "    stats = np.matrix(stats)\n",
    "    mean_x = np.mean(stats, axis=0)\n",
    "    std_x = np.std(stats, axis = 0)\n",
    "    \n",
    "    return mean_x, std_x"
   ]
  },
  {
   "cell_type": "code",
   "execution_count": 4,
   "metadata": {
    "id": "uwy0ohYVlAHe"
   },
   "outputs": [],
   "source": [
    "def gillespie(x0, k, T, V,Vr):\n",
    "    x=copy.deepcopy(x0)\n",
    "    t=0\n",
    "    statsX = [copy.deepcopy(x0)]\n",
    "    \n",
    "    while t <= T :\n",
    "        \n",
    "        lambd=[]\n",
    "        for i in range(len(V[0])) :\n",
    "            for j in range(len(V)): \n",
    "                tmp = k[i]\n",
    "                if Vr[j][i]<0 : #c'est un réactif\n",
    "                    tmp=tmp*x[j]\n",
    "            lambd.append(tmp)\n",
    "        Rtot=sum(lambd)\n",
    "        deltat=float(np.random.exponential(size=1,scale=(1/Rtot)))\n",
    "        lambd_norm=[lambd[i]/Rtot for i in range(len(lambd))]\n",
    "        a=[i for i in range(len(V[0]))]\n",
    "        for l in range(len(x)) : \n",
    "            x[l]=x[l]+V[l][np.random.choice(a,p=lambd_norm)]\n",
    "        t = t+deltat\n",
    "        \n",
    "        statsX.append(copy.deepcopy(x))\n",
    "        \n",
    "        mean_x, std_x = compute_some_stats(statsX)\n",
    "        \n",
    "    return x, mean_x, std_x"
   ]
  },
  {
   "cell_type": "code",
   "execution_count": 5,
   "metadata": {
    "colab": {
     "base_uri": "https://localhost:8080/"
    },
    "id": "TcQGXhJHXfE8",
    "outputId": "aab88098-c978-44d6-f52f-df138cf9b944"
   },
   "outputs": [
    {
     "data": {
      "text/plain": [
       "([5, 2, 1],\n",
       " matrix([[4.16666667, 1.83333333, 1.16666667]]),\n",
       " matrix([[1.34370962, 0.68718427, 0.68718427]]))"
      ]
     },
     "execution_count": 5,
     "metadata": {},
     "output_type": "execute_result"
    }
   ],
   "source": [
    "k=[1,3]\n",
    "x0=[2,1,2]\n",
    "V=[[-1,1],[-1,1],[1,-1]]\n",
    "Vr=V\n",
    "\n",
    "#-1   1\n",
    "#-1   1\n",
    "# 1  -1\n",
    "\n",
    "\n",
    "gillespie(x0,k,2,V,Vr)"
   ]
  },
  {
   "cell_type": "markdown",
   "metadata": {
    "id": "7FeETWz4VPDN"
   },
   "source": [
    "Exercice 2"
   ]
  },
  {
   "cell_type": "code",
   "execution_count": 88,
   "metadata": {
    "colab": {
     "base_uri": "https://localhost:8080/"
    },
    "id": "bAmHdfjzRUid",
    "outputId": "a7d20130-426b-4902-a15e-99bcfed93327"
   },
   "outputs": [
    {
     "data": {
      "text/plain": [
       "([98, 99, 102, 101, 100],\n",
       " matrix([[ 98.625, 100.25 , 101.375, 100.25 , 100.   ]]),\n",
       " matrix([[0.99215674, 0.96824584, 0.69597055, 0.4330127 , 0.        ]]))"
      ]
     },
     "execution_count": 88,
     "metadata": {},
     "output_type": "execute_result"
    }
   ],
   "source": [
    "x0_ex2=[100,100,100,100,100]\n",
    "T_ex2=2\n",
    "#Vr : \n",
    "#   R1  R2  R3  R4  R5  R6  R7\n",
    "# A 0   -1  -1  -1  -1  0   0\n",
    "# B 0   0   -1   0  -1  0   0\n",
    "# C 0   0    0   0  0   -1  -1\n",
    "# D 0   0    0   0  0   0   0\n",
    "# E 0   0    0   0  0   0   0\n",
    "\n",
    "#V :  \n",
    "#   R1  R2  R3  R4  R5  R6  R7\n",
    "# A 1   -1  -1  0   -1  1   0\n",
    "# B 0   0   -1  1   -1  1   0\n",
    "# C 0   0    1  0    1  -1  -1\n",
    "# D 0   0    0  0    0  0   1\n",
    "# E 0   0    0  0    0  0   1\n",
    "\n",
    "k1= 0.1\n",
    "k2 = 0.05\n",
    "k = 0.2\n",
    "k_ex2=[k1, k2,k, k, k1, k1, k2]\n",
    "\n",
    "V_ex2=[[1,-1,-1,0,-1,1,0],[0,0,-1,1,-1,1,0],[0,0,1,0,1,-1,-1], [0,0,0,0,0,0,1],[0,0,0,0,0,0,1]]\n",
    "Vr_ex2=[[0,-1,-1,-1,-1,0,0],[0,0,-1,0,-1,0,0],[0,0,0,0,0,-1,-1], [0,0,0,0,0,0,0],[0,0,0,0,0,0,0]]\n",
    "\n",
    "gillespie(x0_ex2,k_ex2, 10, V_ex2, Vr_ex2)"
   ]
  },
  {
   "cell_type": "code",
   "execution_count": 24,
   "metadata": {},
   "outputs": [],
   "source": [
    "# Equations for the molecules (ODE) :\n",
    "\n",
    "#R1 \n",
    "# dAdt = k1\n",
    "\n",
    "#R2 \n",
    "# dAdt = -k2[A]\n",
    "\n",
    "#R3\n",
    "# dAdt = -k[A]\n",
    "# dBdt = -k[B]\n",
    "# dCdt = k[A] + k[B] = k[C]\n",
    "\n",
    "#R4\n",
    "# dAdt = -k[A] + k[A] = 0\n",
    "# dBdt = k[A]\n",
    "\n",
    "#R5\n",
    "# dAdt = -k1[A]\n",
    "# dBdt = -k1[B]\n",
    "# dCdt = k1[A] + k1[B] = k1[C]\n",
    "\n",
    "#R6\n",
    "# dAdt = k1[C]\n",
    "# dBdt = k1[C]\n",
    "# dCdt = -k1[C]\n",
    "\n",
    "#R7\n",
    "# dCdt = -k2[C]\n",
    "# dDdt = k2[C]\n",
    "# dEdt = k2[C]\n",
    "\n",
    "\n",
    "# Resulting of the 7 reactions :\n",
    "\n",
    "# dAdt = k1 -k2[A] -k[A] -k1[A] + k1[C]\n",
    "# dBdt = -k[B]+k[A]-k1[B]+k1[C]\n",
    "# dCdt = k[C] + k1[C] -k1[C] - k2[C] \n",
    "# dDdt = k2[C]\n",
    "# dEdt = k2[C]\n"
   ]
  },
  {
   "cell_type": "code",
   "execution_count": 15,
   "metadata": {},
   "outputs": [],
   "source": [
    "from scipy.integrate import odeint "
   ]
  },
  {
   "cell_type": "code",
   "execution_count": 61,
   "metadata": {},
   "outputs": [],
   "source": [
    "def dX_dt(x,t, k1, k2, k):\n",
    "    return (k1*1 - k2*x[0] - k*x[0] - k1*x[0] + k1*x[2],\n",
    "           -k*x[1] + k*x[0] -k1*x[1] + k1*x[2] ,\n",
    "           k*x[0] + k*x[1] + k1*x[0] + k1*x[1] - k1*x[2] - k2*x[2],\n",
    "           k2*x[2],\n",
    "           k2*x[2])"
   ]
  },
  {
   "cell_type": "code",
   "execution_count": 89,
   "metadata": {},
   "outputs": [
    {
     "name": "stdout",
     "output_type": "stream",
     "text": [
      "[[100.         100.         100.         100.         100.        ]\n",
      " [ 79.26500267  99.95870168 142.44869023 106.79928146 106.79928146]\n",
      " [ 68.53261528 100.50284085 173.78261478 115.62324    115.62324   ]\n",
      " [ 63.78511504 102.10621847 198.36211097 125.98431717 125.98431717]\n",
      " [ 62.61951488 104.85199702 218.99548377 137.59100538 137.59100538]\n",
      " [ 63.61293038 108.66285995 237.48546114 150.27784584 150.27784584]\n",
      " [ 65.93301793 113.41398583 254.98884584 163.96025648 163.96025648]\n",
      " [ 69.10051287 118.98403844 272.25108232 178.60563048 178.60563048]\n",
      " [ 72.84554388 125.27465738 289.75798823 194.21500532 194.21500532]\n",
      " [ 77.02137643 132.21488481 307.83316321 210.81154618 210.81154618]]\n"
     ]
    }
   ],
   "source": [
    "ts=np.linspace(0, 10, 10)\n",
    "x0 = [100, 100, 100, 100, 100]\n",
    "k1=0.1\n",
    "k2 = 0.05\n",
    "k=0.2\n",
    "solx = odeint(dX_dt, x0, ts, args=(k1, k2, k))\n",
    "print(solx)"
   ]
  },
  {
   "cell_type": "code",
   "execution_count": null,
   "metadata": {},
   "outputs": [],
   "source": []
  },
  {
   "cell_type": "code",
   "execution_count": null,
   "metadata": {},
   "outputs": [],
   "source": []
  },
  {
   "cell_type": "code",
   "execution_count": null,
   "metadata": {},
   "outputs": [],
   "source": []
  },
  {
   "cell_type": "markdown",
   "metadata": {
    "id": "sCy4SuYhZYo6"
   },
   "source": [
    "Exercice 3"
   ]
  },
  {
   "cell_type": "code",
   "execution_count": 11,
   "metadata": {
    "colab": {
     "base_uri": "https://localhost:8080/"
    },
    "id": "-botkw_eZZ2p",
    "outputId": "c5c21f3a-138d-460a-9c8f-356ba3bc07f6"
   },
   "outputs": [
    {
     "data": {
      "text/plain": [
       "([101, 100, 102, 21],\n",
       " matrix([[100.23529412, 100.        , 101.08235294,  60.68235294]]),\n",
       " matrix([[ 0.4241825 ,  0.        ,  0.99660323, 22.67582894]]))"
      ]
     },
     "execution_count": 11,
     "metadata": {},
     "output_type": "execute_result"
    }
   ],
   "source": [
    "x0_ex3=[100,100,100,100]\n",
    "\n",
    "#Vr\n",
    "#           R1 R2 R3 R4 R5 R6\n",
    "# dna*      -1 0  0  0  0  0\n",
    "# dna       0  -1 -1 0  0  0\n",
    "# rna       0  0  0  -1 -1  0\n",
    "# protein   0  0  0  0   0  -1\n",
    "\n",
    "#V\n",
    "#           R1 R2 R3 R4 R5 R6\n",
    "# dna*      -1 1  0  0  0  0\n",
    "# dna       1  -1 0  0  0  0\n",
    "# rna       0  0  1  0  -1 0\n",
    "# protein   0  0  0  1  0  -1\n",
    "\n",
    "k_ex3=[k1,k1,k,k,k,k]\n",
    "\n",
    "Vr_ex3=[[-1,0,0,0,0,0], [0,-1,-1,0,0,0],[0,0,0,-1,-1,0],[0,0,0,0,0,-1]]\n",
    "V_ex3= [[-1,1,0,0,0,0], [1,-1,0,0,0,0],[0,0,1,0,-1,0],[0,0,0,1,0,-1]]\n",
    "\n",
    "gillespie(x0_ex3,k_ex3,2,V_ex3,Vr_ex3)"
   ]
  },
  {
   "cell_type": "markdown",
   "metadata": {
    "id": "2N3PaMmQb3nW"
   },
   "source": [
    "Exercice 4"
   ]
  },
  {
   "cell_type": "code",
   "execution_count": 12,
   "metadata": {
    "colab": {
     "base_uri": "https://localhost:8080/"
    },
    "id": "D55hKnEFb5AK",
    "outputId": "e87d7e68-06a2-4a89-ee1f-d955a0f8f2ac"
   },
   "outputs": [
    {
     "data": {
      "text/plain": [
       "([99, 22],\n",
       " matrix([[99.37037037, 60.19753086]]),\n",
       " matrix([[ 0.48290388, 23.07819224]]))"
      ]
     },
     "execution_count": 12,
     "metadata": {},
     "output_type": "execute_result"
    }
   ],
   "source": [
    "x0_ex4=[100,100]\n",
    "\n",
    "#V\n",
    "#         R1   R2   R3\n",
    "#prey     1    -1   0\n",
    "#predator 0    1   -1\n",
    "\n",
    "#Vr\n",
    "#         R1   R2   R3\n",
    "#prey     0    -1   0\n",
    "#predator 0    -1   -1\n",
    "\n",
    "k_ex4=[k1,k2,k]\n",
    "\n",
    "V_ex4=[[1,-1,0],[0,1,-1]]\n",
    "Vr_ex4=[[0,-1,0],[0,-1,-1]]\n",
    "\n",
    "gillespie(x0_ex4,k_ex4,2,V_ex4,V_ex4)"
   ]
  },
  {
   "cell_type": "markdown",
   "metadata": {
    "id": "S6MjqHNsdMUj"
   },
   "source": [
    "Exercice 5"
   ]
  },
  {
   "cell_type": "code",
   "execution_count": 13,
   "metadata": {
    "colab": {
     "base_uri": "https://localhost:8080/"
    },
    "id": "IBKwmhEcehJb",
    "outputId": "f9f0ef0f-bc65-4a32-ec68-913ef0bcf601"
   },
   "outputs": [
    {
     "data": {
      "text/plain": [
       "([103, 99, 103, 102],\n",
       " matrix([[101.42857143,  99.        , 101.57142857, 100.57142857]]),\n",
       " matrix([[1.17803018, 0.75592895, 1.17803018, 0.72843136]]))"
      ]
     },
     "execution_count": 13,
     "metadata": {},
     "output_type": "execute_result"
    }
   ],
   "source": [
    "V_ex5=[[1,0,-1,1,0],[0,1,0,0,-1],[0,0,0,0,1],[0,0,0,0,1]]\n",
    "Vr_ex5=[[0,0,-1,0,0],[0,0,0,0,-1],[0,0,-1,-2,-1],[0,0,0,0,0]]\n",
    "\n",
    "k_ex5=[k, k, k1, k1, k2]\n",
    "x0_ex5=[100, 100, 100, 100]\n",
    "\n",
    "gillespie(x0_ex5,k_ex5,2,V_ex5,Vr_ex5)"
   ]
  },
  {
   "cell_type": "markdown",
   "metadata": {
    "id": "8hZ5ud5GdKIL"
   },
   "source": [
    "Exercice 6"
   ]
  },
  {
   "cell_type": "code",
   "execution_count": 14,
   "metadata": {
    "colab": {
     "base_uri": "https://localhost:8080/"
    },
    "id": "zx9WGBrQdRQh",
    "outputId": "722388f8-ad99-4ddc-bcf1-b73e1d17f70e"
   },
   "outputs": [
    {
     "data": {
      "text/plain": [
       "([99, 98, 101],\n",
       " matrix([[100.        ,  97.66666667, 100.44444444]]),\n",
       " matrix([[0.66666667, 1.15470054, 0.49690399]]))"
      ]
     },
     "execution_count": 14,
     "metadata": {},
     "output_type": "execute_result"
    }
   ],
   "source": [
    "# 0-> S \n",
    "# S-> I\n",
    "# I-> R\n",
    "# I-> 0 \n",
    "\n",
    "x0_ex6 = [100,100,100]\n",
    "#V\n",
    "\n",
    "#     R1   R2   R3   R4\n",
    "#  S  1    -1   0    0\n",
    "#  I  0    1    -1   -1\n",
    "#  R  0    0    1    0\n",
    "\n",
    "#Vr\n",
    "\n",
    "#     R1   R2   R3   R4\n",
    "#  S  0    -1   0    0\n",
    "#  I  0    0    -1   -1\n",
    "#  R  0    0    0    0\n",
    "\n",
    "V_ex6=[[1,-1,0,0], [0,1,-1,-1],[0,0,1,0]]\n",
    "\n",
    "Vr_ex6 =[[0,-1,0,0], [0,0,-1,-1],[0,0,0,0]]\n",
    "\n",
    "k_ex6 = [k1,k1,k2,k]\n",
    "\n",
    "gillespie(x0_ex6,k_ex6,2,V_ex6,Vr_ex6)"
   ]
  },
  {
   "cell_type": "code",
   "execution_count": null,
   "metadata": {},
   "outputs": [],
   "source": []
  },
  {
   "cell_type": "code",
   "execution_count": null,
   "metadata": {},
   "outputs": [],
   "source": []
  },
  {
   "cell_type": "code",
   "execution_count": null,
   "metadata": {},
   "outputs": [],
   "source": []
  },
  {
   "cell_type": "code",
   "execution_count": null,
   "metadata": {},
   "outputs": [],
   "source": []
  }
 ],
 "metadata": {
  "colab": {
   "name": "Gillespie.ipynb",
   "provenance": []
  },
  "kernelspec": {
   "display_name": "Python 3",
   "language": "python",
   "name": "python3"
  },
  "language_info": {
   "codemirror_mode": {
    "name": "ipython",
    "version": 3
   },
   "file_extension": ".py",
   "mimetype": "text/x-python",
   "name": "python",
   "nbconvert_exporter": "python",
   "pygments_lexer": "ipython3",
   "version": "3.8.8"
  }
 },
 "nbformat": 4,
 "nbformat_minor": 1
}
